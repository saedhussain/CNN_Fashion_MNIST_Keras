{
  "nbformat": 4,
  "nbformat_minor": 0,
  "metadata": {
    "colab": {
      "name": "fashion_mnist_cnn_tf_keras.ipynb",
      "version": "0.3.2",
      "views": {},
      "default_view": {},
      "provenance": [],
      "collapsed_sections": []
    },
    "kernelspec": {
      "name": "python3",
      "display_name": "Python 3"
    },
    "accelerator": "GPU"
  },
  "cells": [
    {
      "metadata": {
        "id": "1nl5QlWxvXWI",
        "colab_type": "code",
        "colab": {
          "autoexec": {
            "startup": false,
            "wait_interval": 0
          },
          "base_uri": "https://localhost:8080/",
          "height": 34
        },
        "outputId": "5217a46a-398d-4a06-b483-dc730f1ef22b",
        "executionInfo": {
          "status": "ok",
          "timestamp": 1533475033886,
          "user_tz": -60,
          "elapsed": 372,
          "user": {
            "displayName": "Saed Hussain",
            "photoUrl": "https://lh3.googleusercontent.com/a/default-user=s128",
            "userId": "102639477619465369463"
          }
        }
      },
      "cell_type": "code",
      "source": [
        "# Import main libraries\n",
        "import tensorflow as tf\n",
        "from tensorflow import keras\n",
        "\n",
        "# Import support libraries\n",
        "import numpy as np\n",
        "import matplotlib.pyplot as plt\n",
        "from keras.utils import to_categorical\n",
        "\n",
        "# Import\n",
        "from keras.models import Sequential,Input,Model\n",
        "from keras.layers import Conv2D, MaxPooling2D, Dense, Flatten, Dropout \n",
        "from keras.layers.advanced_activations import LeakyReLU\n",
        "from keras.optimizers import Adam\n",
        "\n",
        "\n",
        "\n",
        "# Tensorflow version\n",
        "print(tf.__version__)"
      ],
      "execution_count": 92,
      "outputs": [
        {
          "output_type": "stream",
          "text": [
            "1.9.0\n"
          ],
          "name": "stdout"
        }
      ]
    },
    {
      "metadata": {
        "id": "gP2_w_WxzNzP",
        "colab_type": "code",
        "colab": {
          "autoexec": {
            "startup": false,
            "wait_interval": 0
          }
        }
      },
      "cell_type": "code",
      "source": [
        "# Import fashion mnist dataset\n",
        "fashion_mnist_data = keras.datasets.fashion_mnist\n",
        "(train_images, train_lables), (test_images, test_labels) = fashion_mnist_data.load_data()"
      ],
      "execution_count": 0,
      "outputs": []
    },
    {
      "metadata": {
        "id": "XrCY_6E2zpuV",
        "colab_type": "code",
        "colab": {
          "autoexec": {
            "startup": false,
            "wait_interval": 0
          },
          "base_uri": "https://localhost:8080/",
          "height": 85
        },
        "outputId": "62c5ba0d-9fa1-44d3-b807-9312f385f21a",
        "executionInfo": {
          "status": "ok",
          "timestamp": 1533470269537,
          "user_tz": -60,
          "elapsed": 296,
          "user": {
            "displayName": "Saed Hussain",
            "photoUrl": "https://lh3.googleusercontent.com/a/default-user=s128",
            "userId": "102639477619465369463"
          }
        }
      },
      "cell_type": "code",
      "source": [
        "# Check the shape of the data\n",
        "print(\"Train input size: \" + str(train_images.shape))\n",
        "print(\"Train output size: \" + str(train_lables.shape))\n",
        "print(\"Test input size: \" + str(test_images.shape))\n",
        "print(\"Test output size: \" + str(test_labels.shape))"
      ],
      "execution_count": 52,
      "outputs": [
        {
          "output_type": "stream",
          "text": [
            "Train input size: (60000, 28, 28)\n",
            "Train output size: (60000,)\n",
            "Test input size: (10000, 28, 28)\n",
            "Test output size: (10000,)\n"
          ],
          "name": "stdout"
        }
      ]
    },
    {
      "metadata": {
        "id": "eTEfm1dUz_TO",
        "colab_type": "code",
        "colab": {
          "autoexec": {
            "startup": false,
            "wait_interval": 0
          }
        }
      },
      "cell_type": "code",
      "source": [
        "# Dictionay for reference of classes\n",
        "class_names = {0:'T-shirt/top', 1:'Trouser', 2:'Pullover', 3:'Dress', 4:'Coat', \n",
        "               5:'Sandal', 6:'Shirt', 7:'Sneaker', 8:'Bag', 9:'Ankle boot'}"
      ],
      "execution_count": 0,
      "outputs": []
    },
    {
      "metadata": {
        "id": "aFnm0joT1akL",
        "colab_type": "code",
        "colab": {
          "autoexec": {
            "startup": false,
            "wait_interval": 0
          },
          "base_uri": "https://localhost:8080/",
          "height": 364
        },
        "outputId": "e6638f1e-b00e-420f-eea2-4bfbbf95d127",
        "executionInfo": {
          "status": "ok",
          "timestamp": 1533470271991,
          "user_tz": -60,
          "elapsed": 522,
          "user": {
            "displayName": "Saed Hussain",
            "photoUrl": "https://lh3.googleusercontent.com/a/default-user=s128",
            "userId": "102639477619465369463"
          }
        }
      },
      "cell_type": "code",
      "source": [
        "# See one of the images in the data set\n",
        "plt.figure()\n",
        "plt.imshow(train_images[1])\n",
        "print(\"This images is classed as a: \" + class_names[train_lables[1]])"
      ],
      "execution_count": 54,
      "outputs": [
        {
          "output_type": "stream",
          "text": [
            "This images is classed as a: T-shirt/top\n"
          ],
          "name": "stdout"
        },
        {
          "output_type": "display_data",
          "data": {
            "image/png": "[encoded data removed]",
            "text/plain": [
              "<matplotlib.figure.Figure at 0x7fd81b634518>"
            ]
          },
          "metadata": {
            "tags": []
          }
        }
      ]
    },
    {
      "metadata": {
        "id": "o9hH2jPW1kRR",
        "colab_type": "code",
        "colab": {
          "autoexec": {
            "startup": false,
            "wait_interval": 0
          }
        }
      },
      "cell_type": "code",
      "source": [
        "# Normalise inout images pixels from between 0 to 1\n",
        "train_images = train_images / 255.0\n",
        "test_images = test_images / 255.0\n",
        "  \n",
        "# Reshape the images(28x28x1) to be fed into the convolution neural network\n",
        "train_images = train_images.reshape(-1,28,28,1)\n",
        "test_images = test_images.reshape(-1,28,28,1)\n",
        "\n"
      ],
      "execution_count": 0,
      "outputs": []
    },
    {
      "metadata": {
        "id": "IP1waWLl8Ecv",
        "colab_type": "code",
        "colab": {
          "autoexec": {
            "startup": false,
            "wait_interval": 0
          },
          "base_uri": "https://localhost:8080/",
          "height": 68
        },
        "outputId": "c9b7dc3a-8122-4334-90cf-a50702799949",
        "executionInfo": {
          "status": "ok",
          "timestamp": 1533470542210,
          "user_tz": -60,
          "elapsed": 390,
          "user": {
            "displayName": "Saed Hussain",
            "photoUrl": "https://lh3.googleusercontent.com/a/default-user=s128",
            "userId": "102639477619465369463"
          }
        }
      },
      "cell_type": "code",
      "source": [
        "# Represent category labels using one-hot codeing\n",
        "one_hot_train_lables =  to_categorical(train_lables)\n",
        "one_hot_test_lables = to_categorical(test_labels)\n",
        "\n",
        "# Test the lables\n",
        "print(\"Original Train Label for image 5: \" + str(train_lables[5]))\n",
        "print(\"One-Hot Train Label for image 5: \" + str(one_hot_train_lables[5]))\n",
        "print(\"Size of one_hot_train_lables: \" + str(one_hot_train_lables.shape))"
      ],
      "execution_count": 64,
      "outputs": [
        {
          "output_type": "stream",
          "text": [
            "Original Train Label for image 5: 2\n",
            "One-Hot Train Label for image 5: [0. 0. 1. 0. 0. 0. 0. 0. 0. 0.]\n",
            "Size of one_hot_train_lables: (60000, 10)\n"
          ],
          "name": "stdout"
        }
      ]
    },
    {
      "metadata": {
        "id": "2orB7UiE2Lu_",
        "colab_type": "code",
        "colab": {
          "autoexec": {
            "startup": false,
            "wait_interval": 0
          }
        }
      },
      "cell_type": "code",
      "source": [
        "# Finally split the training data for 80/20 for training and validation\n",
        "from sklearn.model_selection import train_test_split\n",
        "train_x, validate_x, train_y, validate_y = train_test_split(train_images,\n",
        "                                           one_hot_train_lables, test_size=0.2,\n",
        "                                           random_state=42)"
      ],
      "execution_count": 0,
      "outputs": []
    },
    {
      "metadata": {
        "id": "ck6Ylct72Uem",
        "colab_type": "code",
        "colab": {
          "autoexec": {
            "startup": false,
            "wait_interval": 0
          },
          "base_uri": "https://localhost:8080/",
          "height": 34
        },
        "outputId": "9ebd43fd-70b3-457d-960c-017123bc22f8",
        "executionInfo": {
          "status": "ok",
          "timestamp": 1533472252394,
          "user_tz": -60,
          "elapsed": 386,
          "user": {
            "displayName": "Saed Hussain",
            "photoUrl": "https://lh3.googleusercontent.com/a/default-user=s128",
            "userId": "102639477619465369463"
          }
        }
      },
      "cell_type": "code",
      "source": [
        "# Print sizes of the training and valdiationd data\n",
        "train_x.shape, validate_x.shape, train_y.shape,validate_y.shape"
      ],
      "execution_count": 78,
      "outputs": [
        {
          "output_type": "execute_result",
          "data": {
            "text/plain": [
              "((48000, 28, 28, 1), (12000, 28, 28, 1), (48000, 10), (12000, 10))"
            ]
          },
          "metadata": {
            "tags": []
          },
          "execution_count": 78
        }
      ]
    },
    {
      "metadata": {
        "id": "1f4ttvPfHJvS",
        "colab_type": "text"
      },
      "cell_type": "markdown",
      "source": [
        "**Build the Network**"
      ]
    },
    {
      "metadata": {
        "id": "c3GgcNSI_rvQ",
        "colab_type": "code",
        "colab": {
          "autoexec": {
            "startup": false,
            "wait_interval": 0
          }
        }
      },
      "cell_type": "code",
      "source": [
        "# Network parameters\n",
        "batch_size = 256\n",
        "epochs = 15\n",
        "num_classes = 10\n"
      ],
      "execution_count": 0,
      "outputs": []
    },
    {
      "metadata": {
        "id": "6rVPfzUPHTde",
        "colab_type": "code",
        "colab": {
          "autoexec": {
            "startup": false,
            "wait_interval": 0
          }
        }
      },
      "cell_type": "code",
      "source": [
        "# CNN Model\n",
        "\n",
        "model = Sequential()\n",
        "# Conv Layer 1, uses kernel of 3x3 and 32 filters\n",
        "model.add(Conv2D(32, kernel_size=(3,3), activation='linear', input_shape=(28,28,1),padding='same'))\n",
        "# Pass them through Leaky ReLU activation\n",
        "model.add(LeakyReLU(alpha=0.1))\n",
        "# Max Pooling Layer 1\n",
        "model.add(MaxPooling2D((2, 2),padding='same'))\n",
        "\n",
        "# Conv Layer 2, uses kernel of 3x3 and 64 filters\n",
        "model.add(Conv2D(64, kernel_size=(3,3), activation='linear', padding='same'))\n",
        "model.add(LeakyReLU(alpha=0.1))\n",
        "# Max Pooling Layer 2\n",
        "model.add(MaxPooling2D((2,2), padding='same'))\n",
        "    \n",
        "# Conv Layer 3, uses kernel of 3x3 and 128 filters\n",
        "model.add(Conv2D(128, kernel_size=(3,3), activation='linear', padding='same'))\n",
        "model.add(LeakyReLU(alpha=0.1))\n",
        "# Max Pooling Layer 3\n",
        "model.add(MaxPooling2D((2,2), padding='same'))\n",
        "\n",
        "# Flat Layer 1\n",
        "model.add(Flatten())\n",
        "\n",
        "# Densre Layer 1\n",
        "model.add(Dense(128,activation='linear'))\n",
        "model.add(LeakyReLU(alpha=0.1))\n",
        "\n",
        "#Dense Output Layer\n",
        "model.add(Dense(num_classes, activation='softmax'))\n"
      ],
      "execution_count": 0,
      "outputs": []
    },
    {
      "metadata": {
        "id": "nYBmIuRYHYB1",
        "colab_type": "code",
        "colab": {
          "autoexec": {
            "startup": false,
            "wait_interval": 0
          }
        }
      },
      "cell_type": "code",
      "source": [
        "# Complie the model\n",
        "model.compile(loss=keras.losses.categorical_crossentropy, \n",
        "                      optimizer= Adam(),\n",
        "                      metrics=['accuracy'])\n"
      ],
      "execution_count": 0,
      "outputs": []
    },
    {
      "metadata": {
        "id": "vbeIkVNdOqlA",
        "colab_type": "code",
        "colab": {
          "autoexec": {
            "startup": false,
            "wait_interval": 0
          },
          "base_uri": "https://localhost:8080/",
          "height": 578
        },
        "outputId": "eb2bc861-5e37-4bbe-801b-5733502aa067",
        "executionInfo": {
          "status": "ok",
          "timestamp": 1533475668869,
          "user_tz": -60,
          "elapsed": 365,
          "user": {
            "displayName": "Saed Hussain",
            "photoUrl": "https://lh3.googleusercontent.com/a/default-user=s128",
            "userId": "102639477619465369463"
          }
        }
      },
      "cell_type": "code",
      "source": [
        "# Model summary\n",
        "model.summary()"
      ],
      "execution_count": 106,
      "outputs": [
        {
          "output_type": "stream",
          "text": [
            "_________________________________________________________________\n",
            "Layer (type)                 Output Shape              Param #   \n",
            "=================================================================\n",
            "conv2d_11 (Conv2D)           (None, 28, 28, 32)        320       \n",
            "_________________________________________________________________\n",
            "leaky_re_lu_10 (LeakyReLU)   (None, 28, 28, 32)        0         \n",
            "_________________________________________________________________\n",
            "max_pooling2d_9 (MaxPooling2 (None, 14, 14, 32)        0         \n",
            "_________________________________________________________________\n",
            "conv2d_12 (Conv2D)           (None, 14, 14, 64)        18496     \n",
            "_________________________________________________________________\n",
            "leaky_re_lu_11 (LeakyReLU)   (None, 14, 14, 64)        0         \n",
            "_________________________________________________________________\n",
            "max_pooling2d_10 (MaxPooling (None, 7, 7, 64)          0         \n",
            "_________________________________________________________________\n",
            "conv2d_13 (Conv2D)           (None, 7, 7, 128)         73856     \n",
            "_________________________________________________________________\n",
            "leaky_re_lu_12 (LeakyReLU)   (None, 7, 7, 128)         0         \n",
            "_________________________________________________________________\n",
            "max_pooling2d_11 (MaxPooling (None, 4, 4, 128)         0         \n",
            "_________________________________________________________________\n",
            "flatten_3 (Flatten)          (None, 2048)              0         \n",
            "_________________________________________________________________\n",
            "dense_3 (Dense)              (None, 128)               262272    \n",
            "_________________________________________________________________\n",
            "leaky_re_lu_13 (LeakyReLU)   (None, 128)               0         \n",
            "_________________________________________________________________\n",
            "dense_4 (Dense)              (None, 10)                1290      \n",
            "=================================================================\n",
            "Total params: 356,234\n",
            "Trainable params: 356,234\n",
            "Non-trainable params: 0\n",
            "_________________________________________________________________\n"
          ],
          "name": "stdout"
        }
      ]
    },
    {
      "metadata": {
        "id": "FpKuYQfFPS84",
        "colab_type": "code",
        "colab": {
          "autoexec": {
            "startup": false,
            "wait_interval": 0
          },
          "base_uri": "https://localhost:8080/",
          "height": 564
        },
        "outputId": "130dabc2-5eaf-44de-d897-138cfe53aaed",
        "executionInfo": {
          "status": "ok",
          "timestamp": 1533475764555,
          "user_tz": -60,
          "elapsed": 93683,
          "user": {
            "displayName": "Saed Hussain",
            "photoUrl": "https://lh3.googleusercontent.com/a/default-user=s128",
            "userId": "102639477619465369463"
          }
        }
      },
      "cell_type": "code",
      "source": [
        "fashion_model_train = model.fit(train_x, \n",
        "                          train_y, \n",
        "                          batch_size=batch_size,\n",
        "                          epochs=epochs,\n",
        "                          verbose=1,\n",
        "                          validation_data=(validate_x, validate_y))\n"
      ],
      "execution_count": 107,
      "outputs": [
        {
          "output_type": "stream",
          "text": [
            "Train on 48000 samples, validate on 12000 samples\n",
            "Epoch 1/15\n",
            "48000/48000 [==============================] - 7s 143us/step - loss: 0.6431 - acc: 0.7676 - val_loss: 0.4041 - val_acc: 0.8575\n",
            "Epoch 2/15\n",
            "48000/48000 [==============================] - 6s 131us/step - loss: 0.3527 - acc: 0.8743 - val_loss: 0.3196 - val_acc: 0.8843\n",
            "Epoch 3/15\n",
            "48000/48000 [==============================] - 6s 130us/step - loss: 0.3027 - acc: 0.8911 - val_loss: 0.2829 - val_acc: 0.8995\n",
            "Epoch 4/15\n",
            "16128/48000 [=========>....................] - ETA: 3s - loss: 0.2778 - acc: 0.9013"
          ],
          "name": "stdout"
        },
        {
          "output_type": "stream",
          "text": [
            "48000/48000 [==============================] - 6s 130us/step - loss: 0.2706 - acc: 0.9026 - val_loss: 0.2648 - val_acc: 0.9047\n",
            "Epoch 5/15\n",
            "48000/48000 [==============================] - 6s 127us/step - loss: 0.2490 - acc: 0.9108 - val_loss: 0.2545 - val_acc: 0.9075\n",
            "Epoch 6/15\n",
            "48000/48000 [==============================] - 6s 126us/step - loss: 0.2269 - acc: 0.9185 - val_loss: 0.2408 - val_acc: 0.9117\n",
            "Epoch 7/15\n",
            "40192/48000 [========================>.....] - ETA: 0s - loss: 0.2064 - acc: 0.9251"
          ],
          "name": "stdout"
        },
        {
          "output_type": "stream",
          "text": [
            "48000/48000 [==============================] - 6s 126us/step - loss: 0.2067 - acc: 0.9249 - val_loss: 0.2303 - val_acc: 0.9159\n",
            "Epoch 8/15\n",
            "48000/48000 [==============================] - 6s 126us/step - loss: 0.1940 - acc: 0.9288 - val_loss: 0.2491 - val_acc: 0.9059\n",
            "Epoch 9/15\n",
            "48000/48000 [==============================] - 6s 128us/step - loss: 0.1788 - acc: 0.9347 - val_loss: 0.2429 - val_acc: 0.9143\n",
            "Epoch 10/15\n",
            "44288/48000 [==========================>...] - ETA: 0s - loss: 0.1693 - acc: 0.9374"
          ],
          "name": "stdout"
        },
        {
          "output_type": "stream",
          "text": [
            "48000/48000 [==============================] - 6s 130us/step - loss: 0.1678 - acc: 0.9380 - val_loss: 0.2234 - val_acc: 0.9216\n",
            "Epoch 11/15\n",
            "48000/48000 [==============================] - 6s 127us/step - loss: 0.1519 - acc: 0.9449 - val_loss: 0.2211 - val_acc: 0.9188\n",
            "Epoch 12/15\n",
            "48000/48000 [==============================] - 6s 126us/step - loss: 0.1437 - acc: 0.9471 - val_loss: 0.2171 - val_acc: 0.9215\n",
            "Epoch 13/15\n",
            "44288/48000 [==========================>...] - ETA: 0s - loss: 0.1258 - acc: 0.9539"
          ],
          "name": "stdout"
        },
        {
          "output_type": "stream",
          "text": [
            "48000/48000 [==============================] - 6s 127us/step - loss: 0.1268 - acc: 0.9537 - val_loss: 0.2185 - val_acc: 0.9205\n",
            "Epoch 14/15\n",
            "48000/48000 [==============================] - 6s 127us/step - loss: 0.1158 - acc: 0.9572 - val_loss: 0.2435 - val_acc: 0.9140\n",
            "Epoch 15/15\n",
            "48000/48000 [==============================] - 6s 126us/step - loss: 0.1079 - acc: 0.9606 - val_loss: 0.2609 - val_acc: 0.9164\n"
          ],
          "name": "stdout"
        }
      ]
    },
    {
      "metadata": {
        "id": "LqR-7A9iQe83",
        "colab_type": "code",
        "colab": {
          "autoexec": {
            "startup": false,
            "wait_interval": 0
          },
          "base_uri": "https://localhost:8080/",
          "height": 68
        },
        "outputId": "3899fd5d-9d3a-4982-e3e2-0b23e666cc30",
        "executionInfo": {
          "status": "ok",
          "timestamp": 1533476124586,
          "user_tz": -60,
          "elapsed": 1608,
          "user": {
            "displayName": "Saed Hussain",
            "photoUrl": "https://lh3.googleusercontent.com/a/default-user=s128",
            "userId": "102639477619465369463"
          }
        }
      },
      "cell_type": "code",
      "source": [
        "# Evalute the model on test data\n",
        "test_eval = model.evaluate(test_images, one_hot_test_lables, verbose=1)\n",
        "print('Test loss:', test_eval[0])\n",
        "print('Test accuracy:', test_eval[1])"
      ],
      "execution_count": 112,
      "outputs": [
        {
          "output_type": "stream",
          "text": [
            "10000/10000 [==============================] - 1s 128us/step\n",
            "Test loss: 0.28578567612171174\n",
            "Test accuracy: 0.9115\n"
          ],
          "name": "stdout"
        }
      ]
    },
    {
      "metadata": {
        "id": "15S8LaEXTBFk",
        "colab_type": "code",
        "colab": {
          "autoexec": {
            "startup": false,
            "wait_interval": 0
          },
          "base_uri": "https://localhost:8080/",
          "height": 707
        },
        "outputId": "d5d7516d-e88e-4cfd-9ae5-b927b8c7a145",
        "executionInfo": {
          "status": "ok",
          "timestamp": 1533476559543,
          "user_tz": -60,
          "elapsed": 894,
          "user": {
            "displayName": "Saed Hussain",
            "photoUrl": "https://lh3.googleusercontent.com/a/default-user=s128",
            "userId": "102639477619465369463"
          }
        }
      },
      "cell_type": "code",
      "source": [
        "accuracy = fashion_model_train.history['acc']\n",
        "val_accuracy = fashion_model_train.history['val_acc']\n",
        "loss = fashion_model_train.history['loss']\n",
        "val_loss = fashion_model_train.history['val_loss']\n",
        "epochs = range(len(accuracy))\n",
        "plt.plot(epochs, accuracy, 'bo', label='Training accuracy')\n",
        "plt.plot(epochs, val_accuracy, 'b', label='Validation accuracy')\n",
        "plt.title('Training and validation accuracy')\n",
        "plt.legend()\n",
        "plt.figure()\n",
        "plt.plot(epochs, loss, 'bo', label='Training loss')\n",
        "plt.plot(epochs, val_loss, 'b', label='Validation loss')\n",
        "plt.title('Training and validation loss')\n",
        "plt.legend()\n",
        "plt.show()"
      ],
      "execution_count": 114,
      "outputs": [
        {
          "output_type": "display_data",
          "data": {
            "image/png": "[encoded data removed]",
            "text/plain": [
              "<matplotlib.figure.Figure at 0x7fd7fcc984e0>"
            ]
          },
          "metadata": {
            "tags": []
          }
        },
        {
          "output_type": "display_data",
          "data": {
            "image/png": "[encoded data removed]",
            "text/plain": [
              "<matplotlib.figure.Figure at 0x7fd7fcc7c160>"
            ]
          },
          "metadata": {
            "tags": []
          }
        }
      ]
    },
    {
      "metadata": {
        "id": "DebbBje8UtLx",
        "colab_type": "code",
        "colab": {
          "autoexec": {
            "startup": false,
            "wait_interval": 0
          }
        }
      },
      "cell_type": "code",
      "source": [
        ""
      ],
      "execution_count": 0,
      "outputs": []
    }
  ]
}